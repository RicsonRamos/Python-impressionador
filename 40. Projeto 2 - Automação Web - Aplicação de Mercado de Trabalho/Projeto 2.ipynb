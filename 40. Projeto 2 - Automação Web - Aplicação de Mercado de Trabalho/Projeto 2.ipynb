{
 "cells": [
  {
   "cell_type": "code",
   "execution_count": 84,
   "id": "8469fd7d",
   "metadata": {},
   "outputs": [
    {
     "data": {
      "text/html": [
       "<div>\n",
       "<style scoped>\n",
       "    .dataframe tbody tr th:only-of-type {\n",
       "        vertical-align: middle;\n",
       "    }\n",
       "\n",
       "    .dataframe tbody tr th {\n",
       "        vertical-align: top;\n",
       "    }\n",
       "\n",
       "    .dataframe thead th {\n",
       "        text-align: right;\n",
       "    }\n",
       "</style>\n",
       "<table border=\"1\" class=\"dataframe\">\n",
       "  <thead>\n",
       "    <tr style=\"text-align: right;\">\n",
       "      <th></th>\n",
       "      <th>Nome</th>\n",
       "      <th>Termos banidos</th>\n",
       "      <th>Preço mínimo</th>\n",
       "      <th>Preço máximo</th>\n",
       "    </tr>\n",
       "  </thead>\n",
       "  <tbody>\n",
       "    <tr>\n",
       "      <th>0</th>\n",
       "      <td>iphone 12 64gb</td>\n",
       "      <td>mini watch</td>\n",
       "      <td>3000</td>\n",
       "      <td>3500</td>\n",
       "    </tr>\n",
       "    <tr>\n",
       "      <th>1</th>\n",
       "      <td>rtx 3060</td>\n",
       "      <td>zota galax</td>\n",
       "      <td>4000</td>\n",
       "      <td>4500</td>\n",
       "    </tr>\n",
       "  </tbody>\n",
       "</table>\n",
       "</div>"
      ],
      "text/plain": [
       "             Nome Termos banidos  Preço mínimo  Preço máximo\n",
       "0  iphone 12 64gb     mini watch          3000          3500\n",
       "1        rtx 3060     zota galax          4000          4500"
      ]
     },
     "execution_count": 84,
     "metadata": {},
     "output_type": "execute_result"
    }
   ],
   "source": [
    "# criar um navegador\n",
    "import pandas as pd\n",
    "from time import sleep\n",
    "from selenium import webdriver\n",
    "from selenium.webdriver.common.by import By\n",
    "from selenium.webdriver.common.keys import Keys\n",
    "from selenium.webdriver.support.ui import WebDriverWait\n",
    "from selenium.webdriver.support import expected_conditions as EC\n",
    "\n",
    "# importar/visualizar a base de dados\n",
    "pd.read_excel('buscas.xlsx')    "
   ]
  },
  {
   "cell_type": "markdown",
   "id": "4523d664",
   "metadata": {},
   "source": [
    "Definição das funções de busca no google e no buscape"
   ]
  },
  {
   "cell_type": "code",
   "execution_count": 110,
   "id": "6e3e941a",
   "metadata": {},
   "outputs": [],
   "source": [
    "\n",
    "def find_google(driver, product, banned_terms, min_price, max_price):\n",
    "    list_google = []\n",
    "\n",
    "    banned_terms = banned_terms.lower()\n",
    "    list_banned_terms = banned_terms.split(' ')\n",
    "    list_product_terms = product.split(' ')\n",
    "\n",
    "\n",
    "    # pesquisar o nome do produto no google\n",
    "    driver.get('https://www.google.com.br')\n",
    "    sleep(1)\n",
    "    # clicar na aba shopping\n",
    "    driver.find_element(By.XPATH, '/html/body/div[1]/div[3]/form/div[1]/div[1]/div[1]/div[1]/div[2]/textarea').send_keys(product, Keys.ENTER)\n",
    "\n",
    "    sleep(1)\n",
    "    list_items = driver.find_elements(By.XPATH, '//div[@role=\"listitem\"]')\n",
    "\n",
    "    sleep(1)\n",
    "    for item in list_items:\n",
    "        if 'Shopping' in item.text:\n",
    "            item.click()\n",
    "            break\n",
    "    sleep(1)\n",
    "    # pegar a lista de resultados da busca no google shopping\n",
    "\n",
    "    list_results = WebDriverWait(driver, 1).until(\n",
    "        EC.presence_of_all_elements_located((By.CLASS_NAME, 'i0X6df'))\n",
    "    )\n",
    "\n",
    "    # Processa os resultados\n",
    "    for result in list_results:\n",
    "        try:\n",
    "            # Pega o nome do produto\n",
    "            name = WebDriverWait(result, 2).until(EC.presence_of_element_located((By.TAG_NAME, 'h3'))).text.lower()\n",
    "\n",
    "            # Verifica se o nome contém termos banidos\n",
    "            banned_terms_found = any(word in name for word in list_banned_terms)\n",
    "            \n",
    "            # Verifica se o nome contém todos os termos do produto\n",
    "            product_terms_found = all(word in name for word in list_product_terms)\n",
    "\n",
    "            # Se o nome não contém termos banidos e contém os termos do produto\n",
    "            if not banned_terms_found and product_terms_found:\n",
    "                # Pega o preço do produto\n",
    "                price = WebDriverWait(result, 2).until(EC.presence_of_element_located((By.CLASS_NAME, 'a8Pemb'))).text\n",
    "                price = float(price.replace('R$', '').replace(' ', '').replace('.', '').replace(',', '.'))\n",
    "\n",
    "                # Verifica se o preço está dentro da faixa desejada\n",
    "                if min_price <= price <= max_price:\n",
    "                    # Pega o link do produto\n",
    "                    link = WebDriverWait(result, 2).until(EC.presence_of_element_located((By.CLASS_NAME, 'Lq5OHe'))).get_attribute('href')\n",
    "                    list_google.append((name, price, link))\n",
    "        except Exception as e:\n",
    "            print(f\"Erro ao processar um resultado: {e}\")\n",
    "    driver.quit()    \n",
    "    return list_google\n"
   ]
  },
  {
   "cell_type": "code",
   "execution_count": 114,
   "id": "85577838",
   "metadata": {},
   "outputs": [
    {
     "name": "stdout",
     "output_type": "stream",
     "text": [
      "[]\n"
     ]
    }
   ],
   "source": [
    "# criar o navegador\n",
    "driver = webdriver.Chrome()\n",
    "# tratar os valores que vieram da tabela\n",
    "product = 'iphone 12 64 gb'\n",
    "banned_terms = 'mini watch'\n",
    "min_price = 3000\n",
    "max_price = 3500\n",
    "\n",
    "list_google = find_google(driver, product, banned_terms, min_price, max_price)\n",
    "print(list_google)"
   ]
  },
  {
   "cell_type": "code",
   "execution_count": 115,
   "id": "fc598d61",
   "metadata": {},
   "outputs": [
    {
     "data": {
      "text/plain": [
       "0"
      ]
     },
     "execution_count": 115,
     "metadata": {},
     "output_type": "execute_result"
    }
   ],
   "source": [
    "len(list_google)"
   ]
  },
  {
   "cell_type": "markdown",
   "id": "24ecf918",
   "metadata": {},
   "source": [
    "Contrução da nossa lista de ofertas encontradas"
   ]
  },
  {
   "cell_type": "markdown",
   "id": "845320a5",
   "metadata": {},
   "source": [
    "Exportar a base de ofertas para Excel"
   ]
  },
  {
   "cell_type": "code",
   "execution_count": 82,
   "id": "dee16081",
   "metadata": {},
   "outputs": [],
   "source": [
    "# exportar pro excel\n",
    "\n"
   ]
  },
  {
   "cell_type": "markdown",
   "id": "b6388cd2",
   "metadata": {},
   "source": [
    "Enviando o e-mail"
   ]
  },
  {
   "cell_type": "code",
   "execution_count": 83,
   "id": "742debbd",
   "metadata": {},
   "outputs": [],
   "source": [
    "# enviar por e-mail o resultado da tabela\n",
    "\n",
    "\n",
    "#verificando se existe alguma oferta dentro da tabela de ofertas\n"
   ]
  },
  {
   "cell_type": "code",
   "execution_count": null,
   "id": "b289b057",
   "metadata": {},
   "outputs": [],
   "source": []
  }
 ],
 "metadata": {
  "kernelspec": {
   "display_name": "Python 3",
   "language": "python",
   "name": "python3"
  },
  "language_info": {
   "codemirror_mode": {
    "name": "ipython",
    "version": 3
   },
   "file_extension": ".py",
   "mimetype": "text/x-python",
   "name": "python",
   "nbconvert_exporter": "python",
   "pygments_lexer": "ipython3",
   "version": "3.13.1"
  }
 },
 "nbformat": 4,
 "nbformat_minor": 5
}
